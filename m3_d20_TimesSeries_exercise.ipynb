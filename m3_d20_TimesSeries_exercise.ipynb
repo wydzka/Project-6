{
 "cells": [
  {
   "cell_type": "markdown",
   "metadata": {},
   "source": [
    "## **Exericse: Time Series (ARIMA)**\n",
    "\n",
    "**Gunakan dataset AAPL.csv**\n",
    "\n",
    "Prediksi harga saham Apple (variable:close) untuk 3 bulan ke depan.\n",
    "\n",
    "1. Lakukan EDA.\n",
    "1. Train Test Split: dengan test set Oct-Dec 2022 \n",
    "1. Cek apakah data sudah stasioner? Jika belum, lakukan differencing.\n",
    "1. Gunakan ADF test untuk mengecek stasionerity data secara statistik.\n",
    "1. Cari model ARIMA terbaik melalui grafik ACF & PACF.\n",
    "1. Buat modelnya dan lakukan forecasting untuk periode 1 tahun."
   ]
  },
  {
   "cell_type": "code",
   "execution_count": 2,
   "metadata": {},
   "outputs": [],
   "source": [
    "import numpy as np \n",
    "import pandas as pd \n",
    "import seaborn as sns \n",
    "import matplotlib.pyplot as plt \n",
    "\n",
    "from sklearn.impute import KNNImputer\n",
    "\n",
    "import warnings\n",
    "warnings.filterwarnings('ignore')"
   ]
  },
  {
   "cell_type": "code",
   "execution_count": null,
   "metadata": {},
   "outputs": [],
   "source": []
  },
  {
   "cell_type": "markdown",
   "metadata": {},
   "source": [
    "## Load Dataset"
   ]
  },
  {
   "cell_type": "code",
   "execution_count": 3,
   "metadata": {},
   "outputs": [
    {
     "data": {
      "text/html": [
       "<div>\n",
       "<style scoped>\n",
       "    .dataframe tbody tr th:only-of-type {\n",
       "        vertical-align: middle;\n",
       "    }\n",
       "\n",
       "    .dataframe tbody tr th {\n",
       "        vertical-align: top;\n",
       "    }\n",
       "\n",
       "    .dataframe thead th {\n",
       "        text-align: right;\n",
       "    }\n",
       "</style>\n",
       "<table border=\"1\" class=\"dataframe\">\n",
       "  <thead>\n",
       "    <tr style=\"text-align: right;\">\n",
       "      <th></th>\n",
       "      <th>Date</th>\n",
       "      <th>Open</th>\n",
       "      <th>High</th>\n",
       "      <th>Low</th>\n",
       "      <th>Close</th>\n",
       "      <th>Adj Close</th>\n",
       "      <th>Volume</th>\n",
       "    </tr>\n",
       "  </thead>\n",
       "  <tbody>\n",
       "    <tr>\n",
       "      <th>0</th>\n",
       "      <td>2020-01-02</td>\n",
       "      <td>74.059998</td>\n",
       "      <td>75.150002</td>\n",
       "      <td>73.797501</td>\n",
       "      <td>75.087502</td>\n",
       "      <td>73.347939</td>\n",
       "      <td>135480400</td>\n",
       "    </tr>\n",
       "    <tr>\n",
       "      <th>1</th>\n",
       "      <td>2020-01-03</td>\n",
       "      <td>74.287498</td>\n",
       "      <td>75.144997</td>\n",
       "      <td>74.125000</td>\n",
       "      <td>74.357498</td>\n",
       "      <td>72.634842</td>\n",
       "      <td>146322800</td>\n",
       "    </tr>\n",
       "    <tr>\n",
       "      <th>2</th>\n",
       "      <td>2020-01-06</td>\n",
       "      <td>73.447502</td>\n",
       "      <td>74.989998</td>\n",
       "      <td>73.187500</td>\n",
       "      <td>74.949997</td>\n",
       "      <td>73.213631</td>\n",
       "      <td>118387200</td>\n",
       "    </tr>\n",
       "    <tr>\n",
       "      <th>3</th>\n",
       "      <td>2020-01-07</td>\n",
       "      <td>74.959999</td>\n",
       "      <td>75.224998</td>\n",
       "      <td>74.370003</td>\n",
       "      <td>74.597504</td>\n",
       "      <td>72.869308</td>\n",
       "      <td>108872000</td>\n",
       "    </tr>\n",
       "    <tr>\n",
       "      <th>4</th>\n",
       "      <td>2020-01-08</td>\n",
       "      <td>74.290001</td>\n",
       "      <td>76.110001</td>\n",
       "      <td>74.290001</td>\n",
       "      <td>75.797501</td>\n",
       "      <td>74.041489</td>\n",
       "      <td>132079200</td>\n",
       "    </tr>\n",
       "  </tbody>\n",
       "</table>\n",
       "</div>"
      ],
      "text/plain": [
       "         Date       Open       High        Low      Close  Adj Close  \\\n",
       "0  2020-01-02  74.059998  75.150002  73.797501  75.087502  73.347939   \n",
       "1  2020-01-03  74.287498  75.144997  74.125000  74.357498  72.634842   \n",
       "2  2020-01-06  73.447502  74.989998  73.187500  74.949997  73.213631   \n",
       "3  2020-01-07  74.959999  75.224998  74.370003  74.597504  72.869308   \n",
       "4  2020-01-08  74.290001  76.110001  74.290001  75.797501  74.041489   \n",
       "\n",
       "      Volume  \n",
       "0  135480400  \n",
       "1  146322800  \n",
       "2  118387200  \n",
       "3  108872000  \n",
       "4  132079200  "
      ]
     },
     "metadata": {},
     "output_type": "display_data"
    },
    {
     "data": {
      "text/html": [
       "<div>\n",
       "<style scoped>\n",
       "    .dataframe tbody tr th:only-of-type {\n",
       "        vertical-align: middle;\n",
       "    }\n",
       "\n",
       "    .dataframe tbody tr th {\n",
       "        vertical-align: top;\n",
       "    }\n",
       "\n",
       "    .dataframe thead th {\n",
       "        text-align: right;\n",
       "    }\n",
       "</style>\n",
       "<table border=\"1\" class=\"dataframe\">\n",
       "  <thead>\n",
       "    <tr style=\"text-align: right;\">\n",
       "      <th></th>\n",
       "      <th>Date</th>\n",
       "      <th>Open</th>\n",
       "      <th>High</th>\n",
       "      <th>Low</th>\n",
       "      <th>Close</th>\n",
       "      <th>Adj Close</th>\n",
       "      <th>Volume</th>\n",
       "    </tr>\n",
       "  </thead>\n",
       "  <tbody>\n",
       "    <tr>\n",
       "      <th>751</th>\n",
       "      <td>2022-12-23</td>\n",
       "      <td>130.919998</td>\n",
       "      <td>132.419998</td>\n",
       "      <td>129.639999</td>\n",
       "      <td>131.860001</td>\n",
       "      <td>131.477127</td>\n",
       "      <td>63814900</td>\n",
       "    </tr>\n",
       "    <tr>\n",
       "      <th>752</th>\n",
       "      <td>2022-12-27</td>\n",
       "      <td>131.380005</td>\n",
       "      <td>131.410004</td>\n",
       "      <td>128.720001</td>\n",
       "      <td>130.029999</td>\n",
       "      <td>129.652435</td>\n",
       "      <td>69007800</td>\n",
       "    </tr>\n",
       "    <tr>\n",
       "      <th>753</th>\n",
       "      <td>2022-12-28</td>\n",
       "      <td>129.669998</td>\n",
       "      <td>131.029999</td>\n",
       "      <td>125.870003</td>\n",
       "      <td>126.040001</td>\n",
       "      <td>125.674026</td>\n",
       "      <td>85438400</td>\n",
       "    </tr>\n",
       "    <tr>\n",
       "      <th>754</th>\n",
       "      <td>2022-12-29</td>\n",
       "      <td>127.989998</td>\n",
       "      <td>130.479996</td>\n",
       "      <td>127.730003</td>\n",
       "      <td>129.610001</td>\n",
       "      <td>129.233658</td>\n",
       "      <td>75703700</td>\n",
       "    </tr>\n",
       "    <tr>\n",
       "      <th>755</th>\n",
       "      <td>2022-12-30</td>\n",
       "      <td>128.410004</td>\n",
       "      <td>129.949997</td>\n",
       "      <td>127.430000</td>\n",
       "      <td>129.929993</td>\n",
       "      <td>129.552719</td>\n",
       "      <td>77034200</td>\n",
       "    </tr>\n",
       "  </tbody>\n",
       "</table>\n",
       "</div>"
      ],
      "text/plain": [
       "           Date        Open        High         Low       Close   Adj Close  \\\n",
       "751  2022-12-23  130.919998  132.419998  129.639999  131.860001  131.477127   \n",
       "752  2022-12-27  131.380005  131.410004  128.720001  130.029999  129.652435   \n",
       "753  2022-12-28  129.669998  131.029999  125.870003  126.040001  125.674026   \n",
       "754  2022-12-29  127.989998  130.479996  127.730003  129.610001  129.233658   \n",
       "755  2022-12-30  128.410004  129.949997  127.430000  129.929993  129.552719   \n",
       "\n",
       "       Volume  \n",
       "751  63814900  \n",
       "752  69007800  \n",
       "753  85438400  \n",
       "754  75703700  \n",
       "755  77034200  "
      ]
     },
     "metadata": {},
     "output_type": "display_data"
    }
   ],
   "source": [
    "# Close tiap bulan dari Jan 2001 sampai Dec 2003\n",
    "df = pd.read_csv('AAPL.csv')\n",
    "display(df.head(), df.tail())"
   ]
  },
  {
   "cell_type": "code",
   "execution_count": 4,
   "metadata": {},
   "outputs": [
    {
     "data": {
      "text/html": [
       "<div>\n",
       "<style scoped>\n",
       "    .dataframe tbody tr th:only-of-type {\n",
       "        vertical-align: middle;\n",
       "    }\n",
       "\n",
       "    .dataframe tbody tr th {\n",
       "        vertical-align: top;\n",
       "    }\n",
       "\n",
       "    .dataframe thead th {\n",
       "        text-align: right;\n",
       "    }\n",
       "</style>\n",
       "<table border=\"1\" class=\"dataframe\">\n",
       "  <thead>\n",
       "    <tr style=\"text-align: right;\">\n",
       "      <th></th>\n",
       "      <th>Date</th>\n",
       "      <th>Close</th>\n",
       "    </tr>\n",
       "  </thead>\n",
       "  <tbody>\n",
       "    <tr>\n",
       "      <th>0</th>\n",
       "      <td>2020-01-02</td>\n",
       "      <td>75.087502</td>\n",
       "    </tr>\n",
       "    <tr>\n",
       "      <th>1</th>\n",
       "      <td>2020-01-03</td>\n",
       "      <td>74.357498</td>\n",
       "    </tr>\n",
       "    <tr>\n",
       "      <th>2</th>\n",
       "      <td>2020-01-06</td>\n",
       "      <td>74.949997</td>\n",
       "    </tr>\n",
       "    <tr>\n",
       "      <th>3</th>\n",
       "      <td>2020-01-07</td>\n",
       "      <td>74.597504</td>\n",
       "    </tr>\n",
       "    <tr>\n",
       "      <th>4</th>\n",
       "      <td>2020-01-08</td>\n",
       "      <td>75.797501</td>\n",
       "    </tr>\n",
       "  </tbody>\n",
       "</table>\n",
       "</div>"
      ],
      "text/plain": [
       "         Date      Close\n",
       "0  2020-01-02  75.087502\n",
       "1  2020-01-03  74.357498\n",
       "2  2020-01-06  74.949997\n",
       "3  2020-01-07  74.597504\n",
       "4  2020-01-08  75.797501"
      ]
     },
     "metadata": {},
     "output_type": "display_data"
    },
    {
     "data": {
      "text/html": [
       "<div>\n",
       "<style scoped>\n",
       "    .dataframe tbody tr th:only-of-type {\n",
       "        vertical-align: middle;\n",
       "    }\n",
       "\n",
       "    .dataframe tbody tr th {\n",
       "        vertical-align: top;\n",
       "    }\n",
       "\n",
       "    .dataframe thead th {\n",
       "        text-align: right;\n",
       "    }\n",
       "</style>\n",
       "<table border=\"1\" class=\"dataframe\">\n",
       "  <thead>\n",
       "    <tr style=\"text-align: right;\">\n",
       "      <th></th>\n",
       "      <th>Date</th>\n",
       "      <th>Close</th>\n",
       "    </tr>\n",
       "  </thead>\n",
       "  <tbody>\n",
       "    <tr>\n",
       "      <th>751</th>\n",
       "      <td>2022-12-23</td>\n",
       "      <td>131.860001</td>\n",
       "    </tr>\n",
       "    <tr>\n",
       "      <th>752</th>\n",
       "      <td>2022-12-27</td>\n",
       "      <td>130.029999</td>\n",
       "    </tr>\n",
       "    <tr>\n",
       "      <th>753</th>\n",
       "      <td>2022-12-28</td>\n",
       "      <td>126.040001</td>\n",
       "    </tr>\n",
       "    <tr>\n",
       "      <th>754</th>\n",
       "      <td>2022-12-29</td>\n",
       "      <td>129.610001</td>\n",
       "    </tr>\n",
       "    <tr>\n",
       "      <th>755</th>\n",
       "      <td>2022-12-30</td>\n",
       "      <td>129.929993</td>\n",
       "    </tr>\n",
       "  </tbody>\n",
       "</table>\n",
       "</div>"
      ],
      "text/plain": [
       "           Date       Close\n",
       "751  2022-12-23  131.860001\n",
       "752  2022-12-27  130.029999\n",
       "753  2022-12-28  126.040001\n",
       "754  2022-12-29  129.610001\n",
       "755  2022-12-30  129.929993"
      ]
     },
     "metadata": {},
     "output_type": "display_data"
    }
   ],
   "source": [
    "# hanya pakai 'Date', 'Close'\n",
    "\n",
    "df = df.copy()[['Date', 'Close']]\n",
    "display(df.head(), df.tail())"
   ]
  },
  {
   "cell_type": "code",
   "execution_count": 5,
   "metadata": {},
   "outputs": [
    {
     "name": "stdout",
     "output_type": "stream",
     "text": [
      "<class 'pandas.core.frame.DataFrame'>\n",
      "RangeIndex: 756 entries, 0 to 755\n",
      "Data columns (total 2 columns):\n",
      " #   Column  Non-Null Count  Dtype  \n",
      "---  ------  --------------  -----  \n",
      " 0   Date    756 non-null    object \n",
      " 1   Close   756 non-null    float64\n",
      "dtypes: float64(1), object(1)\n",
      "memory usage: 11.9+ KB\n"
     ]
    }
   ],
   "source": [
    "df.info()"
   ]
  },
  {
   "cell_type": "code",
   "execution_count": 6,
   "metadata": {},
   "outputs": [
    {
     "data": {
      "text/plain": [
       "Date     0\n",
       "Close    0\n",
       "dtype: int64"
      ]
     },
     "execution_count": 6,
     "metadata": {},
     "output_type": "execute_result"
    }
   ],
   "source": [
    "df.isna().sum()"
   ]
  },
  {
   "attachments": {},
   "cell_type": "markdown",
   "metadata": {},
   "source": [
    "Generate kolom Date yang full (include weekdays dan weekend)"
   ]
  },
  {
   "cell_type": "code",
   "execution_count": 7,
   "metadata": {},
   "outputs": [
    {
     "data": {
      "text/html": [
       "<div>\n",
       "<style scoped>\n",
       "    .dataframe tbody tr th:only-of-type {\n",
       "        vertical-align: middle;\n",
       "    }\n",
       "\n",
       "    .dataframe tbody tr th {\n",
       "        vertical-align: top;\n",
       "    }\n",
       "\n",
       "    .dataframe thead th {\n",
       "        text-align: right;\n",
       "    }\n",
       "</style>\n",
       "<table border=\"1\" class=\"dataframe\">\n",
       "  <thead>\n",
       "    <tr style=\"text-align: right;\">\n",
       "      <th></th>\n",
       "      <th>Date</th>\n",
       "    </tr>\n",
       "  </thead>\n",
       "  <tbody>\n",
       "    <tr>\n",
       "      <th>0</th>\n",
       "      <td>2020-01-01</td>\n",
       "    </tr>\n",
       "    <tr>\n",
       "      <th>1</th>\n",
       "      <td>2020-01-02</td>\n",
       "    </tr>\n",
       "    <tr>\n",
       "      <th>2</th>\n",
       "      <td>2020-01-03</td>\n",
       "    </tr>\n",
       "    <tr>\n",
       "      <th>3</th>\n",
       "      <td>2020-01-04</td>\n",
       "    </tr>\n",
       "    <tr>\n",
       "      <th>4</th>\n",
       "      <td>2020-01-05</td>\n",
       "    </tr>\n",
       "  </tbody>\n",
       "</table>\n",
       "</div>"
      ],
      "text/plain": [
       "         Date\n",
       "0  2020-01-01\n",
       "1  2020-01-02\n",
       "2  2020-01-03\n",
       "3  2020-01-04\n",
       "4  2020-01-05"
      ]
     },
     "execution_count": 7,
     "metadata": {},
     "output_type": "execute_result"
    }
   ],
   "source": [
    "start_date = pd.to_datetime('2020-01-01')\n",
    "end_date = pd.to_datetime('2022-12-31')\n",
    "\n",
    "dates = pd.date_range(start_date, end_date, freq='D').strftime('%Y-%m-%d').tolist()\n",
    "\n",
    "df_kiri = pd.DataFrame(data=dates, columns=['Date'])\n",
    "df_kiri.head()"
   ]
  },
  {
   "cell_type": "code",
   "execution_count": 8,
   "metadata": {},
   "outputs": [
    {
     "name": "stdout",
     "output_type": "stream",
     "text": [
      "<class 'pandas.core.frame.DataFrame'>\n",
      "RangeIndex: 1096 entries, 0 to 1095\n",
      "Data columns (total 1 columns):\n",
      " #   Column  Non-Null Count  Dtype \n",
      "---  ------  --------------  ----- \n",
      " 0   Date    1096 non-null   object\n",
      "dtypes: object(1)\n",
      "memory usage: 8.7+ KB\n"
     ]
    }
   ],
   "source": [
    "df_kiri.info()"
   ]
  },
  {
   "cell_type": "code",
   "execution_count": 9,
   "metadata": {},
   "outputs": [
    {
     "data": {
      "text/html": [
       "<div>\n",
       "<style scoped>\n",
       "    .dataframe tbody tr th:only-of-type {\n",
       "        vertical-align: middle;\n",
       "    }\n",
       "\n",
       "    .dataframe tbody tr th {\n",
       "        vertical-align: top;\n",
       "    }\n",
       "\n",
       "    .dataframe thead th {\n",
       "        text-align: right;\n",
       "    }\n",
       "</style>\n",
       "<table border=\"1\" class=\"dataframe\">\n",
       "  <thead>\n",
       "    <tr style=\"text-align: right;\">\n",
       "      <th></th>\n",
       "      <th>Date</th>\n",
       "      <th>Close</th>\n",
       "    </tr>\n",
       "  </thead>\n",
       "  <tbody>\n",
       "    <tr>\n",
       "      <th>0</th>\n",
       "      <td>2020-01-01</td>\n",
       "      <td>NaN</td>\n",
       "    </tr>\n",
       "    <tr>\n",
       "      <th>1</th>\n",
       "      <td>2020-01-02</td>\n",
       "      <td>75.087502</td>\n",
       "    </tr>\n",
       "    <tr>\n",
       "      <th>2</th>\n",
       "      <td>2020-01-03</td>\n",
       "      <td>74.357498</td>\n",
       "    </tr>\n",
       "    <tr>\n",
       "      <th>3</th>\n",
       "      <td>2020-01-04</td>\n",
       "      <td>NaN</td>\n",
       "    </tr>\n",
       "    <tr>\n",
       "      <th>4</th>\n",
       "      <td>2020-01-05</td>\n",
       "      <td>NaN</td>\n",
       "    </tr>\n",
       "    <tr>\n",
       "      <th>5</th>\n",
       "      <td>2020-01-06</td>\n",
       "      <td>74.949997</td>\n",
       "    </tr>\n",
       "    <tr>\n",
       "      <th>6</th>\n",
       "      <td>2020-01-07</td>\n",
       "      <td>74.597504</td>\n",
       "    </tr>\n",
       "    <tr>\n",
       "      <th>7</th>\n",
       "      <td>2020-01-08</td>\n",
       "      <td>75.797501</td>\n",
       "    </tr>\n",
       "  </tbody>\n",
       "</table>\n",
       "</div>"
      ],
      "text/plain": [
       "         Date      Close\n",
       "0  2020-01-01        NaN\n",
       "1  2020-01-02  75.087502\n",
       "2  2020-01-03  74.357498\n",
       "3  2020-01-04        NaN\n",
       "4  2020-01-05        NaN\n",
       "5  2020-01-06  74.949997\n",
       "6  2020-01-07  74.597504\n",
       "7  2020-01-08  75.797501"
      ]
     },
     "execution_count": 9,
     "metadata": {},
     "output_type": "execute_result"
    }
   ],
   "source": [
    "# samakan date dengan berdasarkan df_kiri\n",
    "df = df_kiri.merge(df, how='left')\n",
    "df.head(8)"
   ]
  },
  {
   "cell_type": "code",
   "execution_count": 10,
   "metadata": {},
   "outputs": [
    {
     "data": {
      "text/html": [
       "<div>\n",
       "<style scoped>\n",
       "    .dataframe tbody tr th:only-of-type {\n",
       "        vertical-align: middle;\n",
       "    }\n",
       "\n",
       "    .dataframe tbody tr th {\n",
       "        vertical-align: top;\n",
       "    }\n",
       "\n",
       "    .dataframe thead th {\n",
       "        text-align: right;\n",
       "    }\n",
       "</style>\n",
       "<table border=\"1\" class=\"dataframe\">\n",
       "  <thead>\n",
       "    <tr style=\"text-align: right;\">\n",
       "      <th></th>\n",
       "      <th>hari_ke</th>\n",
       "      <th>Date</th>\n",
       "      <th>Close</th>\n",
       "    </tr>\n",
       "  </thead>\n",
       "  <tbody>\n",
       "    <tr>\n",
       "      <th>0</th>\n",
       "      <td>0</td>\n",
       "      <td>2020-01-01</td>\n",
       "      <td>NaN</td>\n",
       "    </tr>\n",
       "    <tr>\n",
       "      <th>1</th>\n",
       "      <td>1</td>\n",
       "      <td>2020-01-02</td>\n",
       "      <td>75.087502</td>\n",
       "    </tr>\n",
       "    <tr>\n",
       "      <th>2</th>\n",
       "      <td>2</td>\n",
       "      <td>2020-01-03</td>\n",
       "      <td>74.357498</td>\n",
       "    </tr>\n",
       "    <tr>\n",
       "      <th>3</th>\n",
       "      <td>3</td>\n",
       "      <td>2020-01-04</td>\n",
       "      <td>NaN</td>\n",
       "    </tr>\n",
       "    <tr>\n",
       "      <th>4</th>\n",
       "      <td>4</td>\n",
       "      <td>2020-01-05</td>\n",
       "      <td>NaN</td>\n",
       "    </tr>\n",
       "  </tbody>\n",
       "</table>\n",
       "</div>"
      ],
      "text/plain": [
       "   hari_ke        Date      Close\n",
       "0        0  2020-01-01        NaN\n",
       "1        1  2020-01-02  75.087502\n",
       "2        2  2020-01-03  74.357498\n",
       "3        3  2020-01-04        NaN\n",
       "4        4  2020-01-05        NaN"
      ]
     },
     "execution_count": 10,
     "metadata": {},
     "output_type": "execute_result"
    }
   ],
   "source": [
    "df = df.reset_index().rename(columns={'index':'hari_ke'})\n",
    "df.head()"
   ]
  },
  {
   "cell_type": "code",
   "execution_count": 11,
   "metadata": {},
   "outputs": [],
   "source": [
    "df['Date'] = pd.to_datetime(df['Date'])"
   ]
  },
  {
   "cell_type": "code",
   "execution_count": 12,
   "metadata": {},
   "outputs": [
    {
     "data": {
      "text/html": [
       "<div>\n",
       "<style scoped>\n",
       "    .dataframe tbody tr th:only-of-type {\n",
       "        vertical-align: middle;\n",
       "    }\n",
       "\n",
       "    .dataframe tbody tr th {\n",
       "        vertical-align: top;\n",
       "    }\n",
       "\n",
       "    .dataframe thead th {\n",
       "        text-align: right;\n",
       "    }\n",
       "</style>\n",
       "<table border=\"1\" class=\"dataframe\">\n",
       "  <thead>\n",
       "    <tr style=\"text-align: right;\">\n",
       "      <th></th>\n",
       "      <th>hari_ke</th>\n",
       "      <th>Date</th>\n",
       "      <th>Close</th>\n",
       "    </tr>\n",
       "  </thead>\n",
       "  <tbody>\n",
       "    <tr>\n",
       "      <th>0</th>\n",
       "      <td>0</td>\n",
       "      <td>2020-01-01</td>\n",
       "      <td>74.958000</td>\n",
       "    </tr>\n",
       "    <tr>\n",
       "      <th>1</th>\n",
       "      <td>1</td>\n",
       "      <td>2020-01-02</td>\n",
       "      <td>75.087502</td>\n",
       "    </tr>\n",
       "    <tr>\n",
       "      <th>2</th>\n",
       "      <td>2</td>\n",
       "      <td>2020-01-03</td>\n",
       "      <td>74.357498</td>\n",
       "    </tr>\n",
       "    <tr>\n",
       "      <th>3</th>\n",
       "      <td>3</td>\n",
       "      <td>2020-01-04</td>\n",
       "      <td>74.958000</td>\n",
       "    </tr>\n",
       "    <tr>\n",
       "      <th>4</th>\n",
       "      <td>4</td>\n",
       "      <td>2020-01-05</td>\n",
       "      <td>74.958000</td>\n",
       "    </tr>\n",
       "    <tr>\n",
       "      <th>5</th>\n",
       "      <td>5</td>\n",
       "      <td>2020-01-06</td>\n",
       "      <td>74.949997</td>\n",
       "    </tr>\n",
       "    <tr>\n",
       "      <th>6</th>\n",
       "      <td>6</td>\n",
       "      <td>2020-01-07</td>\n",
       "      <td>74.597504</td>\n",
       "    </tr>\n",
       "    <tr>\n",
       "      <th>7</th>\n",
       "      <td>7</td>\n",
       "      <td>2020-01-08</td>\n",
       "      <td>75.797501</td>\n",
       "    </tr>\n",
       "  </tbody>\n",
       "</table>\n",
       "</div>"
      ],
      "text/plain": [
       "   hari_ke       Date      Close\n",
       "0        0 2020-01-01  74.958000\n",
       "1        1 2020-01-02  75.087502\n",
       "2        2 2020-01-03  74.357498\n",
       "3        3 2020-01-04  74.958000\n",
       "4        4 2020-01-05  74.958000\n",
       "5        5 2020-01-06  74.949997\n",
       "6        6 2020-01-07  74.597504\n",
       "7        7 2020-01-08  75.797501"
      ]
     },
     "execution_count": 12,
     "metadata": {},
     "output_type": "execute_result"
    }
   ],
   "source": [
    "# impute missing values\n",
    "\n",
    "imputer = KNNImputer(n_neighbors=5)\n",
    "\n",
    "df['Close'] = imputer.fit_transform(df[['Close', 'hari_ke']])\n",
    "df.head(8)\n"
   ]
  },
  {
   "cell_type": "markdown",
   "metadata": {},
   "source": [
    "## EDA"
   ]
  },
  {
   "cell_type": "code",
   "execution_count": 13,
   "metadata": {},
   "outputs": [],
   "source": [
    "sns.set_style('whitegrid')"
   ]
  },
  {
   "cell_type": "code",
   "execution_count": 14,
   "metadata": {},
   "outputs": [
    {
     "data": {
      "image/png": "[encoded data removed]",
      "text/plain": [
       "<Figure size 1152x288 with 1 Axes>"
      ]
     },
     "metadata": {
      "needs_background": "light"
     },
     "output_type": "display_data"
    }
   ],
   "source": [
    "plt.figure(figsize=(16,4))\n",
    "sns.lineplot(data=df, x='Date', y='Close');\n",
    "\n",
    "# datanya belum stasioner\n",
    "# kalau mau digunakan dalam modeling ARIMA, maka harus dilakukan differencing agar stasioner."
   ]
  },
  {
   "cell_type": "markdown",
   "metadata": {},
   "source": [
    "## Data Splitting\n",
    "\n",
    "- splitting tidak boleh random, \n",
    "- test set harus dari sekian baris paling akhir"
   ]
  },
  {
   "cell_type": "code",
   "execution_count": 15,
   "metadata": {},
   "outputs": [],
   "source": [
    "train = df[df['Date']<'2022-10-01']\n",
    "test = df[df['Date']>='2022-10-01']"
   ]
  },
  {
   "cell_type": "markdown",
   "metadata": {},
   "source": [
    "## Cek stationarity dengan adfuller test"
   ]
  },
  {
   "cell_type": "markdown",
   "metadata": {},
   "source": [
    "Hypotheses:\n",
    "- Ho: Data tidak stasioner\n",
    "- Ha: Data stasioner"
   ]
  },
  {
   "cell_type": "code",
   "execution_count": 16,
   "metadata": {},
   "outputs": [],
   "source": [
    "from statsmodels.tsa.stattools import adfuller "
   ]
  },
  {
   "cell_type": "code",
   "execution_count": 17,
   "metadata": {},
   "outputs": [
    {
     "data": {
      "text/plain": [
       "0.40135738745596305"
      ]
     },
     "execution_count": 17,
     "metadata": {},
     "output_type": "execute_result"
    }
   ],
   "source": [
    "# cek stationarity di dataset asli\n",
    "pvalue = adfuller(train['Close'])[1]\n",
    "pvalue\n",
    "\n",
    "# pvalue > 0.05 --> Fail reject Ho --> Data tidak stasioner\n",
    "# berarti kita harus lakukan differencing"
   ]
  },
  {
   "cell_type": "code",
   "execution_count": 18,
   "metadata": {},
   "outputs": [
    {
     "data": {
      "text/plain": [
       "7.909242616411295e-26"
      ]
     },
     "execution_count": 18,
     "metadata": {},
     "output_type": "execute_result"
    }
   ],
   "source": [
    "# dataset setelah 1 kali differencing \n",
    "pvalue_diff1 = adfuller(train['Close'].diff().dropna())[1]\n",
    "pvalue_diff1\n",
    "\n",
    "# pvalue < 0.05 --> reject Ho --> Data stasioner"
   ]
  },
  {
   "cell_type": "markdown",
   "metadata": {},
   "source": [
    "## ACF-PACF\n",
    "\n",
    "- Untuk melihat apakah data sudah stasioner atau belum, dicirikan dengan grafik ACF yg slowly decaying\n",
    "- Untuk menentukan hyperparameter terbaik untuk model ARIMA(p,d,q)"
   ]
  },
  {
   "cell_type": "code",
   "execution_count": 19,
   "metadata": {},
   "outputs": [],
   "source": [
    "from statsmodels.graphics.tsaplots import plot_acf, plot_pacf"
   ]
  },
  {
   "cell_type": "code",
   "execution_count": 20,
   "metadata": {},
   "outputs": [],
   "source": [
    "train = train.copy() "
   ]
  },
  {
   "cell_type": "code",
   "execution_count": 21,
   "metadata": {},
   "outputs": [
    {
     "data": {
      "text/html": [
       "<div>\n",
       "<style scoped>\n",
       "    .dataframe tbody tr th:only-of-type {\n",
       "        vertical-align: middle;\n",
       "    }\n",
       "\n",
       "    .dataframe tbody tr th {\n",
       "        vertical-align: top;\n",
       "    }\n",
       "\n",
       "    .dataframe thead th {\n",
       "        text-align: right;\n",
       "    }\n",
       "</style>\n",
       "<table border=\"1\" class=\"dataframe\">\n",
       "  <thead>\n",
       "    <tr style=\"text-align: right;\">\n",
       "      <th></th>\n",
       "      <th>hari_ke</th>\n",
       "      <th>Date</th>\n",
       "      <th>Close</th>\n",
       "      <th>Close_diff1</th>\n",
       "      <th>Close_diff2</th>\n",
       "    </tr>\n",
       "  </thead>\n",
       "  <tbody>\n",
       "    <tr>\n",
       "      <th>0</th>\n",
       "      <td>0</td>\n",
       "      <td>2020-01-01</td>\n",
       "      <td>74.958000</td>\n",
       "      <td>NaN</td>\n",
       "      <td>NaN</td>\n",
       "    </tr>\n",
       "    <tr>\n",
       "      <th>1</th>\n",
       "      <td>1</td>\n",
       "      <td>2020-01-02</td>\n",
       "      <td>75.087502</td>\n",
       "      <td>1.295016e-01</td>\n",
       "      <td>NaN</td>\n",
       "    </tr>\n",
       "    <tr>\n",
       "      <th>2</th>\n",
       "      <td>2</td>\n",
       "      <td>2020-01-03</td>\n",
       "      <td>74.357498</td>\n",
       "      <td>-7.300040e-01</td>\n",
       "      <td>-0.859506</td>\n",
       "    </tr>\n",
       "    <tr>\n",
       "      <th>3</th>\n",
       "      <td>3</td>\n",
       "      <td>2020-01-04</td>\n",
       "      <td>74.958000</td>\n",
       "      <td>6.005024e-01</td>\n",
       "      <td>1.330506</td>\n",
       "    </tr>\n",
       "    <tr>\n",
       "      <th>4</th>\n",
       "      <td>4</td>\n",
       "      <td>2020-01-05</td>\n",
       "      <td>74.958000</td>\n",
       "      <td>-1.421085e-14</td>\n",
       "      <td>-0.600502</td>\n",
       "    </tr>\n",
       "  </tbody>\n",
       "</table>\n",
       "</div>"
      ],
      "text/plain": [
       "   hari_ke       Date      Close   Close_diff1  Close_diff2\n",
       "0        0 2020-01-01  74.958000           NaN          NaN\n",
       "1        1 2020-01-02  75.087502  1.295016e-01          NaN\n",
       "2        2 2020-01-03  74.357498 -7.300040e-01    -0.859506\n",
       "3        3 2020-01-04  74.958000  6.005024e-01     1.330506\n",
       "4        4 2020-01-05  74.958000 -1.421085e-14    -0.600502"
      ]
     },
     "execution_count": 21,
     "metadata": {},
     "output_type": "execute_result"
    }
   ],
   "source": [
    "train['Close_diff1'] = train['Close'].diff()\n",
    "train['Close_diff2'] = train['Close'].diff().diff()\n",
    "\n",
    "train.head()"
   ]
  },
  {
   "cell_type": "code",
   "execution_count": 22,
   "metadata": {},
   "outputs": [
    {
     "data": {
      "image/png": "[encoded data removed]",
      "text/plain": [
       "<Figure size 1440x1008 with 6 Axes>"
      ]
     },
     "metadata": {
      "needs_background": "light"
     },
     "output_type": "display_data"
    }
   ],
   "source": [
    "fig, axes = plt.subplots(nrows=2, ncols=3, figsize=(20,14))\n",
    "\n",
    "# Dataset asli\n",
    "sns.lineplot(data=train, x='Date', y='Close', ax= axes[0,0])\n",
    "axes[0,0].set_title('Dataset Asli')\n",
    "plot_acf(train['Close'], lags= 45, ax= axes[0,1], zero=False)\n",
    "plot_pacf(train['Close'], lags= 45, ax= axes[0,2], zero=False)\n",
    "\n",
    "# Differencing Orde 1\n",
    "sns.lineplot(data=train, x='Date', y='Close_diff1', ax= axes[1,0])\n",
    "axes[1,0].set_title('Differencing Orde 1')\n",
    "plot_acf(train['Close_diff1'].dropna(), lags= 45, ax= axes[1,1], zero=False)\n",
    "plot_pacf(train['Close_diff1'].dropna(), lags= 45, ax= axes[1,2], zero=False)\n",
    "\n",
    "plt.tight_layout();"
   ]
  },
  {
   "attachments": {},
   "cell_type": "markdown",
   "metadata": {},
   "source": [
    "Summary: \n",
    "- Dataset asli belum stasioner, ditunukkan oleh lineplot dan grafik ACF yg masih slowly decaying\n",
    "- Pada differencing orde 1 data sudah stasioner\n",
    "    - AR: PACF cut off\n",
    "    - I: 1 (Differencing orde 1)\n",
    "    - MA: ACF cot off\n",
    "- Jadi bisa kita menggunakan \n",
    "    - ARIMA(1,1,0)\n",
    "    - ARIMA(0,1,1)\n",
    "    - ARIMA(1,1,1)\n"
   ]
  },
  {
   "cell_type": "markdown",
   "metadata": {},
   "source": [
    "## Modeling"
   ]
  },
  {
   "cell_type": "code",
   "execution_count": 23,
   "metadata": {},
   "outputs": [],
   "source": [
    "from statsmodels.tsa.arima.model import ARIMA"
   ]
  },
  {
   "cell_type": "code",
   "execution_count": 24,
   "metadata": {},
   "outputs": [
    {
     "name": "stderr",
     "output_type": "stream",
     "text": [
      "c:\\Users\\Abi\\miniconda3\\envs\\pwdenv\\lib\\site-packages\\statsmodels\\base\\model.py:604: ConvergenceWarning: Maximum Likelihood optimization failed to converge. Check mle_retvals\n",
      "  warnings.warn(\"Maximum Likelihood optimization failed to \"\n"
     ]
    },
    {
     "name": "stdout",
     "output_type": "stream",
     "text": [
      "                               SARIMAX Results                                \n",
      "==============================================================================\n",
      "Dep. Variable:                  Close   No. Observations:                 1004\n",
      "Model:               ARIMA(39, 1, 38)   Log Likelihood               -2157.741\n",
      "Date:                Wed, 07 Jun 2023   AIC                           4471.481\n",
      "Time:                        11:24:29   BIC                           4854.520\n",
      "Sample:                             0   HQIC                          4617.042\n",
      "                               - 1004                                         \n",
      "Covariance Type:                  opg                                         \n",
      "==============================================================================\n",
      "                 coef    std err          z      P>|z|      [0.025      0.975]\n",
      "------------------------------------------------------------------------------\n",
      "ar.L1         -0.5529      2.947     -0.188      0.851      -6.329       5.223\n",
      "ar.L2         -0.2821      4.181     -0.067      0.946      -8.476       7.912\n",
      "ar.L3          0.1299      4.273      0.030      0.976      -8.245       8.505\n",
      "ar.L4         -0.0721      2.999     -0.024      0.981      -5.950       5.806\n",
      "ar.L5         -0.1327      2.577     -0.051      0.959      -5.183       4.918\n",
      "ar.L6         -0.1372      2.240     -0.061      0.951      -4.528       4.253\n",
      "ar.L7          0.3831      2.143      0.179      0.858      -3.817       4.583\n",
      "ar.L8          0.1793      0.608      0.295      0.768      -1.012       1.371\n",
      "ar.L9          0.2579      0.450      0.573      0.567      -0.624       1.140\n",
      "ar.L10        -0.1099      1.155     -0.095      0.924      -2.374       2.154\n",
      "ar.L11        -0.5062      0.664     -0.762      0.446      -1.808       0.795\n",
      "ar.L12        -0.1070      1.060     -0.101      0.920      -2.185       1.971\n",
      "ar.L13         0.0054      1.310      0.004      0.997      -2.562       2.573\n",
      "ar.L14         0.3160      1.047      0.302      0.763      -1.737       2.369\n",
      "ar.L15         0.2422      0.414      0.585      0.558      -0.569       1.053\n",
      "ar.L16        -0.0275      0.833     -0.033      0.974      -1.660       1.605\n",
      "ar.L17        -0.0614      0.695     -0.088      0.930      -1.424       1.301\n",
      "ar.L18         0.1337      0.382      0.350      0.727      -0.616       0.883\n",
      "ar.L19         0.0027      0.704      0.004      0.997      -1.376       1.382\n",
      "ar.L20         0.0659      0.583      0.113      0.910      -1.077       1.209\n",
      "ar.L21        -0.2368      0.663     -0.357      0.721      -1.537       1.063\n",
      "ar.L22        -0.2693      0.327     -0.823      0.410      -0.911       0.372\n",
      "ar.L23         0.1765      1.033      0.171      0.864      -1.848       2.201\n",
      "ar.L24         0.3819      0.498      0.766      0.443      -0.595       1.358\n",
      "ar.L25         0.6292      0.928      0.678      0.498      -1.190       2.448\n",
      "ar.L26         0.3838      2.627      0.146      0.884      -4.764       5.532\n",
      "ar.L27         0.2019      3.283      0.061      0.951      -6.233       6.637\n",
      "ar.L28         0.1238      3.311      0.037      0.970      -6.366       6.614\n",
      "ar.L29         0.1337      3.029      0.044      0.965      -5.803       6.071\n",
      "ar.L30         0.0938      2.819      0.033      0.973      -5.431       5.619\n",
      "ar.L31         0.1229      2.390      0.051      0.959      -4.561       4.807\n",
      "ar.L32        -0.2461      2.215     -0.111      0.912      -4.588       4.096\n",
      "ar.L33        -0.2255      1.005     -0.225      0.822      -2.194       1.743\n",
      "ar.L34        -0.2241      0.305     -0.735      0.462      -0.822       0.374\n",
      "ar.L35         0.1257      0.853      0.147      0.883      -1.546       1.797\n",
      "ar.L36         0.1847      0.434      0.426      0.670      -0.665       1.035\n",
      "ar.L37         0.0663      0.336      0.197      0.844      -0.592       0.725\n",
      "ar.L38        -0.1174      0.502     -0.234      0.815      -1.102       0.867\n",
      "ar.L39        -0.0548      0.157     -0.348      0.728      -0.363       0.253\n",
      "ma.L1          0.3424      2.949      0.116      0.908      -5.438       6.123\n",
      "ma.L2          0.1720      3.586      0.048      0.962      -6.856       7.200\n",
      "ma.L3         -0.0087      3.430     -0.003      0.998      -6.732       6.714\n",
      "ma.L4          0.2011      2.641      0.076      0.939      -4.975       5.377\n",
      "ma.L5          0.1434      2.716      0.053      0.958      -5.181       5.467\n",
      "ma.L6          0.1668      2.416      0.069      0.945      -4.569       4.902\n",
      "ma.L7         -0.3451      2.393     -0.144      0.885      -5.035       4.345\n",
      "ma.L8         -0.0399      0.887     -0.045      0.964      -1.779       1.699\n",
      "ma.L9         -0.1777      0.494     -0.360      0.719      -1.146       0.791\n",
      "ma.L10         0.1098      0.443      0.248      0.804      -0.758       0.978\n",
      "ma.L11         0.4686      0.270      1.738      0.082      -0.060       0.997\n",
      "ma.L12        -0.0730      1.390     -0.053      0.958      -2.796       2.650\n",
      "ma.L13        -0.0062      1.087     -0.006      0.995      -2.137       2.124\n",
      "ma.L14        -0.3183      0.812     -0.392      0.695      -1.910       1.273\n",
      "ma.L15        -0.1785      0.564     -0.317      0.752      -1.284       0.927\n",
      "ma.L16         0.0928      0.876      0.106      0.916      -1.624       1.810\n",
      "ma.L17         0.1049      0.579      0.181      0.856      -1.030       1.239\n",
      "ma.L18        -0.1824      0.275     -0.664      0.507      -0.721       0.356\n",
      "ma.L19         0.0613      0.613      0.100      0.920      -1.140       1.263\n",
      "ma.L20        -0.0707      0.368     -0.192      0.847      -0.791       0.650\n",
      "ma.L21         0.2482      0.492      0.505      0.614      -0.715       1.212\n",
      "ma.L22         0.2395      0.485      0.493      0.622      -0.712       1.191\n",
      "ma.L23        -0.2855      1.077     -0.265      0.791      -2.396       1.825\n",
      "ma.L24        -0.2972      0.401     -0.742      0.458      -1.082       0.488\n",
      "ma.L25        -0.5566      0.948     -0.587      0.557      -2.414       1.301\n",
      "ma.L26        -0.2664      2.414     -0.110      0.912      -4.997       4.465\n",
      "ma.L27        -0.1819      2.766     -0.066      0.948      -5.604       5.240\n",
      "ma.L28        -0.1047      2.842     -0.037      0.971      -5.675       5.466\n",
      "ma.L29        -0.1676      2.572     -0.065      0.948      -5.208       4.873\n",
      "ma.L30        -0.1197      2.553     -0.047      0.963      -5.124       4.884\n",
      "ma.L31        -0.2835      2.259     -0.125      0.900      -4.711       4.144\n",
      "ma.L32         0.2407      2.630      0.092      0.927      -4.914       5.396\n",
      "ma.L33         0.1230      1.375      0.089      0.929      -2.573       2.819\n",
      "ma.L34         0.1073      0.656      0.164      0.870      -1.178       1.392\n",
      "ma.L35        -0.1733      0.257     -0.674      0.500      -0.677       0.331\n",
      "ma.L36        -0.1986      0.543     -0.366      0.715      -1.263       0.866\n",
      "ma.L37         0.0003      0.931      0.000      1.000      -1.825       1.826\n",
      "ma.L38         0.2301      0.826      0.279      0.781      -1.389       1.849\n",
      "sigma2         4.2200      0.180     23.436      0.000       3.867       4.573\n",
      "===================================================================================\n",
      "Ljung-Box (L1) (Q):                   0.02   Jarque-Bera (JB):               220.43\n",
      "Prob(Q):                              0.89   Prob(JB):                         0.00\n",
      "Heteroskedasticity (H):               1.66   Skew:                            -0.17\n",
      "Prob(H) (two-sided):                  0.00   Kurtosis:                         5.27\n",
      "===================================================================================\n",
      "\n",
      "Warnings:\n",
      "[1] Covariance matrix calculated using the outer product of gradients (complex-step).\n"
     ]
    }
   ],
   "source": [
    "# define model \n",
    "arima = ARIMA(train['Close'], order=(39,1,38))\n",
    "\n",
    "# fit\n",
    "arima_fit = arima.fit()\n",
    "\n",
    "# summary\n",
    "print(arima_fit.summary())"
   ]
  },
  {
   "cell_type": "code",
   "execution_count": 25,
   "metadata": {},
   "outputs": [
    {
     "data": {
      "text/plain": [
       "4471.481432532172"
      ]
     },
     "execution_count": 25,
     "metadata": {},
     "output_type": "execute_result"
    }
   ],
   "source": [
    "# AIC score (semakin kecil nilai AIC, semakin bagus modelnya)\n",
    "arima_fit.aic"
   ]
  },
  {
   "attachments": {},
   "cell_type": "markdown",
   "metadata": {},
   "source": [
    "## Forecast\n",
    "\n",
    "Memprediksi Close 6 bulan kedepan"
   ]
  },
  {
   "cell_type": "code",
   "execution_count": 26,
   "metadata": {},
   "outputs": [
    {
     "data": {
      "text/plain": [
       "92"
      ]
     },
     "execution_count": 26,
     "metadata": {},
     "output_type": "execute_result"
    }
   ],
   "source": [
    "len(test)"
   ]
  },
  {
   "cell_type": "code",
   "execution_count": 27,
   "metadata": {},
   "outputs": [
    {
     "data": {
      "text/plain": [
       "1004    139.934464\n",
       "1005    138.516498\n",
       "1006    138.490278\n",
       "1007    139.367908\n",
       "1008    138.332701\n",
       "           ...    \n",
       "1091    135.482124\n",
       "1092    134.691707\n",
       "1093    134.362946\n",
       "1094    134.391757\n",
       "1095    134.629544\n",
       "Name: predicted_mean, Length: 92, dtype: float64"
      ]
     },
     "execution_count": 27,
     "metadata": {},
     "output_type": "execute_result"
    }
   ],
   "source": [
    "# prediksi berapa bulan ke depan\n",
    "forecast_length = len(test)\n",
    "\n",
    "# forecast (predict)\n",
    "forecast_result = arima_fit.forecast(forecast_length)\n",
    "forecast_result"
   ]
  },
  {
   "cell_type": "code",
   "execution_count": 28,
   "metadata": {},
   "outputs": [],
   "source": [
    "from sklearn.metrics import mean_absolute_error"
   ]
  },
  {
   "cell_type": "code",
   "execution_count": 29,
   "metadata": {},
   "outputs": [
    {
     "data": {
      "text/plain": [
       "8.196345280427357"
      ]
     },
     "execution_count": 29,
     "metadata": {},
     "output_type": "execute_result"
    }
   ],
   "source": [
    "# MAE\n",
    "mean_absolute_error(y_true=test['Close'], y_pred=forecast_result)"
   ]
  },
  {
   "cell_type": "code",
   "execution_count": 30,
   "metadata": {},
   "outputs": [
    {
     "data": {
      "text/html": [
       "<div>\n",
       "<style scoped>\n",
       "    .dataframe tbody tr th:only-of-type {\n",
       "        vertical-align: middle;\n",
       "    }\n",
       "\n",
       "    .dataframe tbody tr th {\n",
       "        vertical-align: top;\n",
       "    }\n",
       "\n",
       "    .dataframe thead th {\n",
       "        text-align: right;\n",
       "    }\n",
       "</style>\n",
       "<table border=\"1\" class=\"dataframe\">\n",
       "  <thead>\n",
       "    <tr style=\"text-align: right;\">\n",
       "      <th></th>\n",
       "      <th>hari_ke</th>\n",
       "      <th>Date</th>\n",
       "      <th>Close</th>\n",
       "      <th>forecast_Close</th>\n",
       "    </tr>\n",
       "  </thead>\n",
       "  <tbody>\n",
       "    <tr>\n",
       "      <th>1086</th>\n",
       "      <td>1086</td>\n",
       "      <td>2022-12-22</td>\n",
       "      <td>132.229996</td>\n",
       "      <td>136.525549</td>\n",
       "    </tr>\n",
       "    <tr>\n",
       "      <th>1087</th>\n",
       "      <td>1087</td>\n",
       "      <td>2022-12-23</td>\n",
       "      <td>131.860001</td>\n",
       "      <td>136.706570</td>\n",
       "    </tr>\n",
       "    <tr>\n",
       "      <th>1088</th>\n",
       "      <td>1088</td>\n",
       "      <td>2022-12-24</td>\n",
       "      <td>132.373999</td>\n",
       "      <td>136.546339</td>\n",
       "    </tr>\n",
       "    <tr>\n",
       "      <th>1089</th>\n",
       "      <td>1089</td>\n",
       "      <td>2022-12-25</td>\n",
       "      <td>129.954000</td>\n",
       "      <td>136.690886</td>\n",
       "    </tr>\n",
       "    <tr>\n",
       "      <th>1090</th>\n",
       "      <td>1090</td>\n",
       "      <td>2022-12-26</td>\n",
       "      <td>129.493999</td>\n",
       "      <td>135.719029</td>\n",
       "    </tr>\n",
       "    <tr>\n",
       "      <th>1091</th>\n",
       "      <td>1091</td>\n",
       "      <td>2022-12-27</td>\n",
       "      <td>130.029999</td>\n",
       "      <td>135.482124</td>\n",
       "    </tr>\n",
       "    <tr>\n",
       "      <th>1092</th>\n",
       "      <td>1092</td>\n",
       "      <td>2022-12-28</td>\n",
       "      <td>126.040001</td>\n",
       "      <td>134.691707</td>\n",
       "    </tr>\n",
       "    <tr>\n",
       "      <th>1093</th>\n",
       "      <td>1093</td>\n",
       "      <td>2022-12-29</td>\n",
       "      <td>129.610001</td>\n",
       "      <td>134.362946</td>\n",
       "    </tr>\n",
       "    <tr>\n",
       "      <th>1094</th>\n",
       "      <td>1094</td>\n",
       "      <td>2022-12-30</td>\n",
       "      <td>129.929993</td>\n",
       "      <td>134.391757</td>\n",
       "    </tr>\n",
       "    <tr>\n",
       "      <th>1095</th>\n",
       "      <td>1095</td>\n",
       "      <td>2022-12-31</td>\n",
       "      <td>129.493999</td>\n",
       "      <td>134.629544</td>\n",
       "    </tr>\n",
       "  </tbody>\n",
       "</table>\n",
       "</div>"
      ],
      "text/plain": [
       "      hari_ke       Date       Close  forecast_Close\n",
       "1086     1086 2022-12-22  132.229996      136.525549\n",
       "1087     1087 2022-12-23  131.860001      136.706570\n",
       "1088     1088 2022-12-24  132.373999      136.546339\n",
       "1089     1089 2022-12-25  129.954000      136.690886\n",
       "1090     1090 2022-12-26  129.493999      135.719029\n",
       "1091     1091 2022-12-27  130.029999      135.482124\n",
       "1092     1092 2022-12-28  126.040001      134.691707\n",
       "1093     1093 2022-12-29  129.610001      134.362946\n",
       "1094     1094 2022-12-30  129.929993      134.391757\n",
       "1095     1095 2022-12-31  129.493999      134.629544"
      ]
     },
     "execution_count": 30,
     "metadata": {},
     "output_type": "execute_result"
    }
   ],
   "source": [
    "df['forecast_Close'] = forecast_result\n",
    "df.tail(10)"
   ]
  },
  {
   "cell_type": "code",
   "execution_count": 31,
   "metadata": {},
   "outputs": [
    {
     "data": {
      "image/png": "[encoded data removed]",
      "text/plain": [
       "<Figure size 1152x288 with 1 Axes>"
      ]
     },
     "metadata": {
      "needs_background": "light"
     },
     "output_type": "display_data"
    }
   ],
   "source": [
    "plt.figure(figsize=(16,4))\n",
    "sns.lineplot(data=df, x='Date', y='Close')\n",
    "sns.lineplot(data=df, x='Date', y='forecast_Close');"
   ]
  },
  {
   "cell_type": "markdown",
   "metadata": {},
   "source": [
    "## Tuning pakai pmdarima"
   ]
  },
  {
   "cell_type": "code",
   "execution_count": 32,
   "metadata": {},
   "outputs": [],
   "source": [
    "# pip install pmdarima"
   ]
  },
  {
   "cell_type": "code",
   "execution_count": 33,
   "metadata": {},
   "outputs": [],
   "source": [
    "from pmdarima import auto_arima"
   ]
  },
  {
   "cell_type": "code",
   "execution_count": 34,
   "metadata": {},
   "outputs": [],
   "source": [
    "# auto_arima(\n",
    "#     train['Close'],\n",
    "#     trace=True,\n",
    "#     # start_p= 2,\n",
    "#     # max_p= 10\n",
    "# )"
   ]
  },
  {
   "cell_type": "code",
   "execution_count": null,
   "metadata": {},
   "outputs": [],
   "source": []
  },
  {
   "cell_type": "markdown",
   "metadata": {},
   "source": [
    "## Tuning manual"
   ]
  },
  {
   "cell_type": "code",
   "execution_count": 35,
   "metadata": {},
   "outputs": [],
   "source": [
    "# list_mae = []\n",
    "# list_pdq = []\n",
    "\n",
    "# for p in range(2,50,2):\n",
    "#     for d in range(0,1):\n",
    "#         for q in range(2,50,2):\n",
    "\n",
    "#             # define model \n",
    "#             arima = ARIMA(train['Close'], order=(p,d,q))\n",
    "#             arima_fit = arima.fit()\n",
    "\n",
    "#             # prediksi berapa bulan ke depan\n",
    "#             forecast_length = len(test)\n",
    "#             forecast = arima_fit.forecast(forecast_length)\n",
    "            \n",
    "#             mae = mean_absolute_error(y_true=test['Close'], y_pred=forecast)\n",
    "#             list_mae.append(mae)\n",
    "#             list_pdq.append([p,d,q])"
   ]
  },
  {
   "cell_type": "code",
   "execution_count": 36,
   "metadata": {},
   "outputs": [],
   "source": [
    "# df_mae = pd.DataFrame()\n",
    "# df_mae['pdq'] = list_pdq\n",
    "# df_mae['MAE'] = list_mae\n",
    "\n",
    "# df_mae = df_mae.sort_values('MAE')\n",
    "# df_mae.head()"
   ]
  },
  {
   "cell_type": "code",
   "execution_count": 37,
   "metadata": {},
   "outputs": [],
   "source": [
    "# best_p = df_mae['pdq'][0][0]\n",
    "# best_d = df_mae['pdq'][0][1]\n",
    "# best_q = df_mae['pdq'][0][2]\n"
   ]
  },
  {
   "cell_type": "code",
   "execution_count": 38,
   "metadata": {},
   "outputs": [],
   "source": [
    "best_p = 3\n",
    "best_d = 0\n",
    "best_q = 2\n"
   ]
  },
  {
   "cell_type": "code",
   "execution_count": 39,
   "metadata": {},
   "outputs": [
    {
     "data": {
      "text/plain": [
       "6.982147720314748"
      ]
     },
     "execution_count": 39,
     "metadata": {},
     "output_type": "execute_result"
    }
   ],
   "source": [
    "# best\n",
    "\n",
    "# define model \n",
    "arima_best = ARIMA(train['Close'], order=(best_p, best_d, best_q))\n",
    "\n",
    "# fit\n",
    "arima_best_fit = arima_best.fit()\n",
    "\n",
    "# prediksi berapa bulan ke depan\n",
    "forecast_length = len(test)\n",
    "\n",
    "# forecast (predict)\n",
    "forecast_best = arima_best_fit.forecast(forecast_length)\n",
    " \n",
    "mean_absolute_error(y_true=test['Close'], y_pred=forecast_best)"
   ]
  },
  {
   "cell_type": "code",
   "execution_count": 40,
   "metadata": {},
   "outputs": [
    {
     "data": {
      "text/plain": [
       "''"
      ]
     },
     "execution_count": 40,
     "metadata": {},
     "output_type": "execute_result"
    },
    {
     "data": {
      "image/png": "[encoded data removed]",
      "text/plain": [
       "<Figure size 1152x288 with 1 Axes>"
      ]
     },
     "metadata": {
      "needs_background": "light"
     },
     "output_type": "display_data"
    }
   ],
   "source": [
    "plt.figure(figsize=(16,4))\n",
    "sns.lineplot(data=df, x='Date', y='Close')\n",
    "sns.lineplot(data=df, x='Date', y='forecast_Close') # orange\n",
    "sns.lineplot(data=df, x='Date', y=forecast_best)     # hijau\n",
    "\n",
    ";"
   ]
  }
 ],
 "metadata": {
  "kernelspec": {
   "display_name": "pwdenv",
   "language": "python",
   "name": "python3"
  },
  "language_info": {
   "codemirror_mode": {
    "name": "ipython",
    "version": 3
   },
   "file_extension": ".py",
   "mimetype": "text/x-python",
   "name": "python",
   "nbconvert_exporter": "python",
   "pygments_lexer": "ipython3",
   "version": "3.10.5"
  },
  "orig_nbformat": 4,
  "vscode": {
   "interpreter": {
    "hash": "26d83cb9ebc769f8a392797c85547e3220df367d4f886ed011b3f771d6a84444"
   }
  }
 },
 "nbformat": 4,
 "nbformat_minor": 2
}
